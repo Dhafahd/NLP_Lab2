{
 "cells": [
  {
   "cell_type": "code",
   "execution_count": 1,
   "id": "56ffcbf3-248f-4b17-b817-80cf2ae70401",
   "metadata": {
    "scrolled": true
   },
   "outputs": [
    {
     "name": "stderr",
     "output_type": "stream",
     "text": [
      "C:\\Users\\lenovo\\AppData\\Local\\Programs\\Python\\Python312\\Lib\\site-packages\\tqdm\\auto.py:21: TqdmWarning: IProgress not found. Please update jupyter and ipywidgets. See https://ipywidgets.readthedocs.io/en/stable/user_install.html\n",
      "  from .autonotebook import tqdm as notebook_tqdm\n"
     ]
    }
   ],
   "source": [
    "import pyarabic.araby as araby\n",
    "from tashaphyne.stemming import ArabicLightStemmer\n",
    "import string\n",
    "import pymongo\n",
    "from sklearn.feature_extraction.text import TfidfVectorizer\n",
    "from sklearn.feature_extraction.text import CountVectorizer\n",
    "import re\n",
    "from nltk.tokenize import word_tokenize\n",
    "from nltk.corpus import stopwords\n",
    "import stanza\n",
    "import nltk\n",
    "import spacy\n",
    "import qalsadi.lemmatizer as lem\n",
    "from sklearn.preprocessing import OneHotEncoder\n",
    "import numpy as np\n",
    "import matplotlib.pyplot as plt\n",
    "from gensim.models import FastText\n",
    "from sklearn.manifold import TSNE\n",
    "from tensorflow.keras.preprocessing.text import Tokenizer\n"
   ]
  },
  {
   "cell_type": "markdown",
   "id": "89ff3fc1-3226-4110-b328-c4557e2f2483",
   "metadata": {},
   "source": [
    "### I- Import data from MongoDB :"
   ]
  },
  {
   "cell_type": "code",
   "execution_count": 2,
   "id": "21054cce-fd96-4ff3-a6b0-9f974ce3b5e8",
   "metadata": {},
   "outputs": [],
   "source": [
    "# Connect to MongoDB\n",
    "client = pymongo.MongoClient('localhost', 27017)\n",
    "db = client['aljarida24']\n",
    "collection = db['articles']\n",
    "\n",
    "# get content from MongoDB\n",
    "cursor = collection.find()\n",
    "# Define a counter to keep track of the number of contents processed\n",
    "count = 0\n",
    "\n",
    "# Assuming you have already defined the 'cursor' object\n",
    "for document in cursor:\n",
    "    if count >= 2:\n",
    "        break  # Exit the loop if we've processed two contents\n",
    "    content = document.get('paragraphs')\n",
    "    normalized_text = content.encode('utf-8')\n",
    "    count=count+1\n",
    "\n",
    "    "
   ]
  },
  {
   "cell_type": "code",
   "execution_count": 51,
   "id": "9c850065-622d-43d5-9267-1d9be0492a8e",
   "metadata": {},
   "outputs": [
    {
     "data": {
      "text/plain": [
       "'طالب نواب المعارضة البرلمانية، بالكشف عن سبل تيسير الحصول على الدعم الاجتماعي المباشر، بعد ظهور عدد من الاشكاليات.  ووجه إدريس السنتيسي، رئيس الفريق الحركي بمجلس النواب، فوزي لقجع، الوزير المنتدب المكلف بالميزانية، سؤالا كتابيا مفاده سحب الدعم المباشر من عدد من المواطنين بعد شروعهم في الاستفادة.  وأكد السنتيسي في سؤاله أن العديد من المواطنات والمواطنين، فوجئوا بسحب الدعم المباشر ومعها نظام أمو تضامن بعد الشروع في الاستفادة منذ ثلاثة أشهر، الأمر الذي أثار امتعاض الفئات المعنية التي تقرر إبعادها عن هذا البرنامج بمبرر ارتفاع مؤشرهم الاجتماعي، رغم أنه لا يمكن أن تتغير وضعيتهم الاجتماعية والاقتصادية في هذا الظرف الوجيز.  وساءل رئيس الفريق الحركي بمجلس النواب، الوزير لقجع عن حقيقة هذا الإجراء وأسبابه ودوافعه وعدد المعنيين به وكذا انعكاساته الاجتماعية، لاسيما أن هؤلاء الأشخاص لا قدرة لهم على الانخراط في نظام أمو الشامل للأشخاص القادرين على دفع الاشتراكات.  '"
      ]
     },
     "execution_count": 51,
     "metadata": {},
     "output_type": "execute_result"
    }
   ],
   "source": [
    "content"
   ]
  },
  {
   "cell_type": "markdown",
   "id": "44a949ee-f977-4844-8353-e65f21f8c435",
   "metadata": {},
   "source": [
    "### III - Clean & Normalize Arabic Text"
   ]
  },
  {
   "cell_type": "code",
   "execution_count": 3,
   "id": "af2514b2-5f28-4679-8f68-87f6cae72cc2",
   "metadata": {},
   "outputs": [
    {
     "name": "stdout",
     "output_type": "stream",
     "text": [
      "طالب نواب المعارضة البرلمانية، بالكشف عن سبل تيسير الحصول على الدعم الاجتماعي المباشر، بعد ظهور عدد من الاشكاليات.  ووجه إدريس السنتيسي، رئيس الفريق الحركي بمجلس النواب، فوزي لقجع، الوزير المنتدب المكلف بالميزانية، سؤالا كتابيا مفاده سحب الدعم المباشر من عدد من المواطنين بعد شروعهم في الاستفادة.  وأكد السنتيسي في سؤاله أن العديد من المواطنات والمواطنين، فوجئوا بسحب الدعم المباشر ومعها نظام أمو تضامن بعد الشروع في الاستفادة منذ ثلاثة أشهر، الأمر الذي أثار امتعاض الفئات المعنية التي تقرر إبعادها عن هذا البرنامج بمبرر ارتفاع مؤشرهم الاجتماعي، رغم أنه لا يمكن أن تتغير وضعيتهم الاجتماعية والاقتصادية في هذا الظرف الوجيز.  وساءل رئيس الفريق الحركي بمجلس النواب، الوزير لقجع عن حقيقة هذا الإجراء وأسبابه ودوافعه وعدد المعنيين به وكذا انعكاساته الاجتماعية، لاسيما أن هؤلاء الأشخاص لا قدرة لهم على الانخراط في نظام أمو الشامل للأشخاص القادرين على دفع الاشتراكات.  \n",
      "-----------------------------------------------------------\n",
      "طالب نواب المعارضه البرلمانيه بالكشف عن سبل تيسير الحصول علي الدعم الاجتماعي المباشر بعد ظهور عدد من الاشكاليات  وجه ادريس السنتيسي رئيس الفريق الحركي بمجلس النواب فوزي لقجع الوزير المنتدب المكلف بالميزانيه سؤالا كتابيا مفاده سحب الدعم المباشر من عدد من المواطنين بعد شروعهم في الاستفاده  واكد السنتيسي في سؤاله ان العديد من المواطنات والمواطنين فوجئوا بسحب الدعم المباشر ومعها نظام امو تضامن بعد الشروع في الاستفاده منذ ثلاثه اشهر الامر الذي اثار امتعاض الفئات المعنيه التي تقرر ابعادها عن هذا البرنامج بمبرر ارتفاع مؤشرهم الاجتماعي رغم انه لا يمكن ان تتغير وضعيتهم الاجتماعيه والاقتصاديه في هذا الظرف الوجيز  وساءل رئيس الفريق الحركي بمجلس النواب الوزير لقجع عن حقيقه هذا الاجراء واسبابه ودوافعه وعدد المعنين به وكذا انعكاساته الاجتماعيه لاسيما ان هؤلاء الاشخاص لا قدره لهم علي الانخراط في نظام امو الشامل للاشخاص القادرين علي دفع الاشتراكات\n"
     ]
    },
    {
     "name": "stderr",
     "output_type": "stream",
     "text": [
      "<>:10: SyntaxWarning: invalid escape sequence '\\S'\n",
      "<>:14: SyntaxWarning: invalid escape sequence '\\w'\n",
      "<>:10: SyntaxWarning: invalid escape sequence '\\S'\n",
      "<>:14: SyntaxWarning: invalid escape sequence '\\w'\n",
      "C:\\Users\\lenovo\\AppData\\Local\\Temp\\ipykernel_28024\\242138973.py:10: SyntaxWarning: invalid escape sequence '\\S'\n",
      "  url = re.compile('https?://\\S+|www\\.S+')\n",
      "C:\\Users\\lenovo\\AppData\\Local\\Temp\\ipykernel_28024\\242138973.py:14: SyntaxWarning: invalid escape sequence '\\w'\n",
      "  email = re.compile('[A-Za-z0-2]+@[\\w]+.[\\w]+')\n"
     ]
    }
   ],
   "source": [
    "# Clean/Normalize Arabic Text\n",
    "def clean_str(text):\n",
    "    search = [\"أ\",\"إ\",\"آ\",\"ة\",\"_\",\"-\",\"/\",\".\",\"،\",\" و \",\" يا \",'\"',\"ـ\",\"'\",\"ى\",'\\n', '\\t','\"','?','؟','!']\n",
    "    replace = [\"ا\",\"ا\",\"ا\",\"ه\",\" \",\" \",\"\",\"\",\"\",\" و\",\" يا\",\"\",\"\",\"\",\"ي\",\"\",' ', ' ',' ',' ? ',' ؟ ',' ! ']\n",
    "    # remove HTML TAG\n",
    "    html = re.compile('[<،,()\"\".#*?>]')\n",
    "    text = html.sub(r'',text)\n",
    "    \n",
    "    # Remove urls:\n",
    "    url = re.compile('https?://\\S+|www\\.S+')\n",
    "    text = url.sub(r'',text)\n",
    "    \n",
    "    # Remove email id:\n",
    "    email = re.compile('[A-Za-z0-2]+@[\\w]+.[\\w]+')\n",
    "    text = email.sub(r'',text)\n",
    "    \n",
    "    # Remove tashkeel\n",
    "    p_tashkeel = re.compile(r'[\\u0617-\\u061A\\u064B-\\u0652]')\n",
    "    text = re.sub(p_tashkeel,\"\", text)\n",
    "    \n",
    "    # Remove longation \"EX : سلاممممم = سلامم\"\n",
    "    p_longation = re.compile(r'(.)\\1+')\n",
    "    subst = r\"\\1\\1\"\n",
    "    text = re.sub(p_longation, subst, text)\n",
    "    \n",
    "    text = text.replace('وو', 'و')\n",
    "    text = text.replace('يي', 'ي')\n",
    "    text = text.replace('اا', 'ا')\n",
    "    for i in range(0, len(search)):\n",
    "        text = text.replace(search[i], replace[i])\n",
    "    \n",
    "    # remove any leading and trailing whitespace characters    \n",
    "    text = text.strip()\n",
    "    return text\n",
    "    \n",
    "print(content)\n",
    "print(\"-----------------------------------------------------------\")\n",
    "para = clean_str(content)\n",
    "print(para)"
   ]
  },
  {
   "cell_type": "markdown",
   "id": "5ceff92c-540b-41b2-815b-5672b16e4715",
   "metadata": {},
   "source": [
    "### III - Tokenize text to sentences & deleting stop words"
   ]
  },
  {
   "cell_type": "code",
   "execution_count": 4,
   "id": "b36870d2-79d2-40bc-bfc9-45d6ce246ea7",
   "metadata": {},
   "outputs": [
    {
     "name": "stdout",
     "output_type": "stream",
     "text": [
      "['طالب', 'نواب', 'المعارضه', 'البرلمانيه', 'بالكشف', 'عن', 'سبل', 'تيسير', 'الحصول', 'علي', 'الدعم', 'الاجتماعي', 'المباشر', 'بعد', 'ظهور', 'عدد', 'من', 'الاشكاليات', 'و', 'جه', 'ادريس', 'السنتيسي', 'رئيس', 'الفريق', 'الحركي', 'بمجلس', 'النواب', 'فوزي', 'لقجع', 'الوزير', 'المنتدب', 'المكلف', 'بالميزانيه', 'سؤالا', 'كتابيا', 'مفاده', 'سحب', 'الدعم', 'المباشر', 'من', 'عدد', 'من', 'المواطنين', 'بعد', 'شروعهم', 'في', 'الاستفاده', 'و', 'اكد', 'السنتيسي', 'في', 'سؤاله', 'ان', 'العديد', 'من', 'المواطنات', 'و', 'المواطنين', 'فوجئوا', 'بسحب', 'الدعم', 'المباشر', 'و', 'معها', 'نظام', 'امو', 'تضامن', 'بعد', 'الشروع', 'في', 'الاستفاده', 'منذ', 'ثلاثه', 'اشهر', 'الامر', 'الذي', 'اثار', 'امتعاض', 'الفئات', 'المعنيه', 'التي', 'تقرر', 'ابعادها', 'عن', 'هذا', 'البرنامج', 'بمبرر', 'ارتفاع', 'مؤشرهم', 'الاجتماعي', 'رغم', 'انه', 'لا', 'يمكن', 'ان', 'تتغير', 'و', 'ضعيتهم', 'الاجتماعيه', 'و', 'الاقتصاديه', 'في', 'هذا', 'الظرف', 'الوجيز', 'و', 'ساءل', 'رئيس', 'الفريق', 'الحركي', 'بمجلس', 'النواب', 'الوزير', 'لقجع', 'عن', 'حقيقه', 'هذا', 'الاجراء', 'و', 'اسبابه', 'و', 'دوافعه', 'و', 'عدد', 'المعنين', 'به', 'و', 'كذا', 'انعكاساته', 'الاجتماعيه', 'لاسيما', 'ان', 'هؤلاء', 'الاشخاص', 'لا', 'قدره', 'لهم', 'علي', 'الانخراط', 'في', 'نظام', 'امو', 'الشامل', 'للاشخاص', 'القادرين', 'علي', 'دفع', 'الاشتراكات']\n",
      "---------------------------\n",
      "['طالب نواب المعارضة البرلمانية،', 'بالكشف عن سبل تيسير الحصول على الدعم الاجتماعي المباشر،', 'بعد ظهور عدد من الاشكاليات.', 'ووجه إدريس السنتيسي،', 'رئيس الفريق الحركي بمجلس النواب،', 'فوزي لقجع،', 'الوزير المنتدب المكلف بالميزانية،', 'سؤالا كتابيا مفاده سحب الدعم المباشر من عدد من المواطنين بعد شروعهم في الاستفادة.', 'وأكد السنتيسي في سؤاله أن العديد من المواطنات والمواطنين،', 'فوجئوا بسحب الدعم المباشر ومعها نظام أمو تضامن بعد الشروع في الاستفادة منذ ثلاثة أشهر،', 'الأمر الذي أثار امتعاض الفئات المعنية التي تقرر إبعادها عن هذا البرنامج بمبرر ارتفاع مؤشرهم الاجتماعي،', 'رغم أنه لا يمكن أن تتغير وضعيتهم الاجتماعية والاقتصادية في هذا الظرف الوجيز.', 'وساءل رئيس الفريق الحركي بمجلس النواب،', 'الوزير لقجع عن حقيقة هذا الإجراء وأسبابه ودوافعه وعدد المعنيين به وكذا انعكاساته الاجتماعية،', 'لاسيما أن هؤلاء الأشخاص لا قدرة لهم على الانخراط في نظام أمو الشامل للأشخاص القادرين على دفع الاشتراكات.', '']\n"
     ]
    }
   ],
   "source": [
    "\n",
    "def tokenize(para):\n",
    " # Tokenize the text\n",
    " tokens = word_tokenize(para)\n",
    "\n",
    " # Filter tokens to keep only non-numeric ones\n",
    " filtered_tokens = [token for token in tokens if not token.isdigit()]\n",
    "\n",
    " # Regular expression pattern to match words starting with 'و'\n",
    " pattern = r'^و\\w*'\n",
    "    \n",
    " # Tokenize the words starting with 'و'\n",
    " custom_tokens = []\n",
    " for token in filtered_tokens:\n",
    "    if re.match(pattern, token):\n",
    "        custom_tokens.append('و')\n",
    "        if len(token) > 1:\n",
    "            custom_tokens.append(token[1:])\n",
    "    else:\n",
    "        custom_tokens.append(token)\n",
    " return custom_tokens\n",
    "\n",
    "custom_tokens=tokenize(para)\n",
    "\n",
    "tokens_sen = araby.sentence_tokenize(content)\n",
    "print(custom_tokens)\n",
    "print('---------------------------')\n",
    "print(tokens_sen)\n",
    "\n"
   ]
  },
  {
   "cell_type": "code",
   "execution_count": 5,
   "id": "96d441c6-d84b-4516-be7b-45c329a0f4e7",
   "metadata": {},
   "outputs": [
    {
     "name": "stdout",
     "output_type": "stream",
     "text": [
      "Filtered sentence:\n",
      "['طالب نواب المعارضة البرلمانية،', 'بالكشف  سبل تيسير الحصول  الدعم الاجتماعي المباشر،', ' ظهور عدد  الاشكاليات.', 'ووجه إدريس السنتيسي،', 'رئيس الفريق الحركي بمجلس النواب،', 'فوزي لقجع،', 'الوزير المنتدب المكلف بالميزانية،', 'سؤالا كتابيا مفاده سحب الدعم المباشر  عدد  المواطنين  شروعهم  الاستفادة.', 'وأكد السنتيسي  سؤاله  العديد  المواطنات والمواطنين،', 'فوجئوا بسحب الدعم المباشر ومعها نظام أمو تضامن  الشروع  الاستفادة   أشهر،', 'الأمر  أثار امتعاض الفئات المعنية  تقرر إبعادها   البرنامج بمبرر ارتفاع مؤشرهم الاجتماعي،', 'رغم أنه  يمكن  تتغير وضعيتهم الاجتماعية والاقتصادية   الظرف الوجيز.', 'وساءل رئيس الفريق الحركي بمجلس النواب،', 'الوزير لقجع  حقيقة  الإجراء وأسبابه ودوافعه وعدد المعنيين  وكذا انعكاساته الاجتماعية،', '   الأشخاص  قدرة   الانخراط  نظام أمو الشامل للأشخاص القادرين  دفع الاشتراكات.', '']\n",
      "\n",
      "Filtered Tokens:\n",
      "['طالب', 'نواب', 'المعارضه', 'البرلمانيه', 'بالكشف', 'سبل', 'تيسير', 'الحصول', 'علي', 'الدعم', 'الاجتماعي', 'المباشر', 'ظهور', 'عدد', 'الاشكاليات', 'جه', 'ادريس', 'السنتيسي', 'رئيس', 'الفريق', 'الحركي', 'بمجلس', 'النواب', 'فوزي', 'لقجع', 'الوزير', 'المنتدب', 'المكلف', 'بالميزانيه', 'سؤالا', 'كتابيا', 'مفاده', 'سحب', 'الدعم', 'المباشر', 'عدد', 'المواطنين', 'شروعهم', 'الاستفاده', 'اكد', 'السنتيسي', 'سؤاله', 'ان', 'العديد', 'المواطنات', 'المواطنين', 'فوجئوا', 'بسحب', 'الدعم', 'المباشر', 'معها', 'نظام', 'امو', 'تضامن', 'الشروع', 'الاستفاده', 'ثلاثه', 'اشهر', 'الامر', 'اثار', 'امتعاض', 'الفئات', 'المعنيه', 'تقرر', 'ابعادها', 'البرنامج', 'بمبرر', 'ارتفاع', 'مؤشرهم', 'الاجتماعي', 'رغم', 'انه', 'يمكن', 'ان', 'تتغير', 'ضعيتهم', 'الاجتماعيه', 'الاقتصاديه', 'الظرف', 'الوجيز', 'ساءل', 'رئيس', 'الفريق', 'الحركي', 'بمجلس', 'النواب', 'الوزير', 'لقجع', 'حقيقه', 'الاجراء', 'اسبابه', 'دوافعه', 'عدد', 'المعنين', 'انعكاساته', 'الاجتماعيه', 'ان', 'الاشخاص', 'قدره', 'علي', 'الانخراط', 'نظام', 'امو', 'الشامل', 'للاشخاص', 'القادرين', 'علي', 'دفع', 'الاشتراكات']\n"
     ]
    }
   ],
   "source": [
    "\n",
    "def stop_words(custom_tokens,tokens_sen):\n",
    " # Load Arabic stopwords\n",
    " stop_words = set(stopwords.words('arabic'))\n",
    " # Filter out stop words\n",
    " filtered_words = [token for token in custom_tokens if not token in stop_words]\n",
    " filtered_sen = [''.join([x for x in re.split(r'(\\W+)', sent) if x not in stop_words]) for sent in tokens_sen]\n",
    "\n",
    " return filtered_words,filtered_sen\n",
    "\n",
    "filtered_words,filtered_sen= stop_words(custom_tokens,tokens_sen)\n",
    "print(\"Filtered sentence:\")\n",
    "print(filtered_sen)\n",
    "print(\"\\nFiltered Tokens:\")\n",
    "print(filtered_words)"
   ]
  },
  {
   "cell_type": "code",
   "execution_count": 7,
   "id": "da8e1a87-23f1-4ebd-8214-e22afc1e35e7",
   "metadata": {},
   "outputs": [],
   "source": [
    "arb = ''')(+`÷×؛<>_()*&^%][ـ،/:\"؟.,'{}~¦+|!”،.”…“–ـ”.'''\n",
    "eng = string.punctuation\n",
    "punct = arb + eng\n",
    "filtered_sen = [sent.translate(str.maketrans('', '', punct)) for sent in filtered_sen]\n"
   ]
  },
  {
   "cell_type": "code",
   "execution_count": null,
   "id": "31c9f46f-44d9-439c-950c-c5bd3ea8cac1",
   "metadata": {},
   "outputs": [],
   "source": []
  },
  {
   "cell_type": "markdown",
   "id": "474f39fe-eacf-4429-b764-3992cc0eae97",
   "metadata": {},
   "source": [
    "### IV - One hot encoding "
   ]
  },
  {
   "cell_type": "code",
   "execution_count": 8,
   "id": "2c41eac8-5d97-4331-ae06-20863a93ef61",
   "metadata": {},
   "outputs": [
    {
     "name": "stdout",
     "output_type": "stream",
     "text": [
      "vocabulary : {'طالب': 1, 'نواب': 2, 'المعارضة': 3, 'البرلمانية': 4, 'بالكشف': 5, 'سبل': 6, 'تيسير': 7, 'الحصول': 8, 'الدعم': 9, 'الاجتماعي': 10, 'المباشر': 11, 'ظهور': 12, 'عدد': 13, 'الاشكاليات': 14, 'ووجه': 15, 'إدريس': 16, 'السنتيسي': 17, 'رئيس': 18, 'الفريق': 19, 'الحركي': 20, 'بمجلس': 21, 'النواب': 22, 'فوزي': 23, 'لقجع': 24, 'الوزير': 25, 'المنتدب': 26, 'المكلف': 27, 'بالميزانية': 28, 'سؤالا': 29, 'كتابيا': 30, 'مفاده': 31, 'سحب': 32, 'المواطنين': 33, 'شروعهم': 34, 'الاستفادة': 35, 'وأكد': 36, 'سؤاله': 37, 'العديد': 38, 'المواطنات': 39, 'والمواطنين': 40, 'فوجئوا': 41, 'بسحب': 42, 'ومعها': 43, 'نظام': 44, 'أمو': 45, 'تضامن': 46, 'الشروع': 47, 'أشهر': 48, 'الأمر': 49, 'أثار': 50, 'امتعاض': 51, 'الفئات': 52, 'المعنية': 53, 'تقرر': 54, 'إبعادها': 55, 'البرنامج': 56, 'بمبرر': 57, 'ارتفاع': 58, 'مؤشرهم': 59, 'رغم': 60, 'أنه': 61, 'يمكن': 62, 'تتغير': 63, 'وضعيتهم': 64, 'الاجتماعية': 65, 'والاقتصادية': 66, 'الظرف': 67, 'الوجيز': 68, 'وساءل': 69, 'حقيقة': 70, 'الإجراء': 71, 'وأسبابه': 72, 'ودوافعه': 73, 'وعدد': 74, 'المعنيين': 75, 'وكذا': 76, 'انعكاساته': 77, 'الأشخاص': 78, 'قدرة': 79, 'الانخراط': 80, 'الشامل': 81, 'للأشخاص': 82, 'القادرين': 83, 'دفع': 84, 'الاشتراكات': 85}\n"
     ]
    }
   ],
   "source": [
    "# Create the vocabulary\n",
    "vocab = {}\n",
    "count = 0\n",
    "for sent in filtered_sen:\n",
    "    for word in sent.split():\n",
    "        if word not in vocab:\n",
    "            count = count + 1\n",
    "            vocab[word] = count\n",
    "print('vocabulary :', vocab)"
   ]
  },
  {
   "cell_type": "code",
   "execution_count": 9,
   "id": "b2baf128-34ce-4c91-9642-207172c6ec2e",
   "metadata": {},
   "outputs": [
    {
     "name": "stdout",
     "output_type": "stream",
     "text": [
      "OneHotEncoded vector for sentence : \" طالب نواب المعارضة البرلمانية \"is \n",
      " [[1, 0, 0, 0, 0, 0, 0, 0, 0, 0, 0, 0, 0, 0, 0, 0, 0, 0, 0, 0, 0, 0, 0, 0, 0, 0, 0, 0, 0, 0, 0, 0, 0, 0, 0, 0, 0, 0, 0, 0, 0, 0, 0, 0, 0, 0, 0, 0, 0, 0, 0, 0, 0, 0, 0, 0, 0, 0, 0, 0, 0, 0, 0, 0, 0, 0, 0, 0, 0, 0, 0, 0, 0, 0, 0, 0, 0, 0, 0, 0, 0, 0, 0, 0, 0], [0, 1, 0, 0, 0, 0, 0, 0, 0, 0, 0, 0, 0, 0, 0, 0, 0, 0, 0, 0, 0, 0, 0, 0, 0, 0, 0, 0, 0, 0, 0, 0, 0, 0, 0, 0, 0, 0, 0, 0, 0, 0, 0, 0, 0, 0, 0, 0, 0, 0, 0, 0, 0, 0, 0, 0, 0, 0, 0, 0, 0, 0, 0, 0, 0, 0, 0, 0, 0, 0, 0, 0, 0, 0, 0, 0, 0, 0, 0, 0, 0, 0, 0, 0, 0], [0, 0, 1, 0, 0, 0, 0, 0, 0, 0, 0, 0, 0, 0, 0, 0, 0, 0, 0, 0, 0, 0, 0, 0, 0, 0, 0, 0, 0, 0, 0, 0, 0, 0, 0, 0, 0, 0, 0, 0, 0, 0, 0, 0, 0, 0, 0, 0, 0, 0, 0, 0, 0, 0, 0, 0, 0, 0, 0, 0, 0, 0, 0, 0, 0, 0, 0, 0, 0, 0, 0, 0, 0, 0, 0, 0, 0, 0, 0, 0, 0, 0, 0, 0, 0], [0, 0, 0, 1, 0, 0, 0, 0, 0, 0, 0, 0, 0, 0, 0, 0, 0, 0, 0, 0, 0, 0, 0, 0, 0, 0, 0, 0, 0, 0, 0, 0, 0, 0, 0, 0, 0, 0, 0, 0, 0, 0, 0, 0, 0, 0, 0, 0, 0, 0, 0, 0, 0, 0, 0, 0, 0, 0, 0, 0, 0, 0, 0, 0, 0, 0, 0, 0, 0, 0, 0, 0, 0, 0, 0, 0, 0, 0, 0, 0, 0, 0, 0, 0, 0]]\n"
     ]
    }
   ],
   "source": [
    "# One Hot Encoding\n",
    "def OneHotEncoder(text):\n",
    "    onehot_encoded = []\n",
    "    for word in text.split():\n",
    "        temp = [0]*len(vocab)\n",
    "        if word in vocab:\n",
    "            temp[vocab[word]-1] = 1\n",
    "            onehot_encoded.append(temp)\n",
    "    return onehot_encoded\n",
    "\n",
    "\n",
    "# print('\\n',sentences[0])\n",
    "print('OneHotEncoded vector for sentence : \"',filtered_sen[0], '\"is \\n', OneHotEncoder(filtered_sen[0]))"
   ]
  },
  {
   "cell_type": "markdown",
   "id": "f37a37fe-c509-4d29-999e-1a4f1ce62ddc",
   "metadata": {},
   "source": [
    "### V - Bag of words (BOW)"
   ]
  },
  {
   "cell_type": "code",
   "execution_count": 10,
   "id": "7cd1f698-ff20-4925-b9f6-9657356fdc1c",
   "metadata": {},
   "outputs": [
    {
     "name": "stdout",
     "output_type": "stream",
     "text": [
      "Our vocabulary:  {'طالب': 60, 'نواب': 72, 'المعارضة': 30, 'البرلمانية': 16, 'بالكشف': 42, 'سبل': 57, 'تيسير': 50, 'الحصول': 19, 'الدعم': 20, 'الاجتماعي': 10, 'المباشر': 29, 'ظهور': 61, 'عدد': 62, 'الاشكاليات': 14, 'ووجه': 83, 'إدريس': 5, 'السنتيسي': 21, 'رئيس': 53, 'الفريق': 27, 'الحركي': 18, 'بمجلس': 46, 'النواب': 37, 'فوزي': 64, 'لقجع': 67, 'الوزير': 39, 'المنتدب': 34, 'المكلف': 33, 'بالميزانية': 43, 'سؤالا': 55, 'كتابيا': 66, 'مفاده': 70, 'سحب': 58, 'المواطنين': 36, 'شروعهم': 59, 'الاستفادة': 12, 'وأكد': 74, 'سؤاله': 56, 'العديد': 25, 'المواطنات': 35, 'والمواطنين': 76, 'فوجئوا': 63, 'بسحب': 44, 'ومعها': 82, 'نظام': 71, 'أمو': 2, 'تضامن': 48, 'الشروع': 23, 'أشهر': 1, 'الأمر': 8, 'أثار': 0, 'امتعاض': 40, 'الفئات': 26, 'المعنية': 31, 'تقرر': 49, 'إبعادها': 4, 'البرنامج': 17, 'بمبرر': 45, 'ارتفاع': 6, 'مؤشرهم': 69, 'رغم': 54, 'أنه': 3, 'يمكن': 84, 'تتغير': 47, 'وضعيتهم': 79, 'الاجتماعية': 11, 'والاقتصادية': 75, 'الظرف': 24, 'الوجيز': 38, 'وساءل': 78, 'حقيقة': 51, 'الإجراء': 9, 'وأسبابه': 73, 'ودوافعه': 77, 'وعدد': 80, 'المعنيين': 32, 'وكذا': 81, 'انعكاساته': 41, 'الأشخاص': 7, 'قدرة': 65, 'الانخراط': 15, 'الشامل': 22, 'للأشخاص': 68, 'القادرين': 28, 'دفع': 52, 'الاشتراكات': 13}\n"
     ]
    }
   ],
   "source": [
    "#CountVectorizer : Convert a collection of text documents to a matrix of token counts.\n",
    "count_vect = CountVectorizer()\n",
    "\n",
    "# fit & transform will represent each sentences as BOW representation\n",
    "BOW = count_vect.fit_transform(filtered_sen)\n",
    "\n",
    "# Get the vocabulary\n",
    "print(\"Our vocabulary: \", count_vect.vocabulary_)"
   ]
  },
  {
   "cell_type": "code",
   "execution_count": 11,
   "id": "df97c44f-54c0-477f-afdb-cddf712202c6",
   "metadata": {},
   "outputs": [
    {
     "name": "stdout",
     "output_type": "stream",
     "text": [
      "BoW representation for : طالب نواب المعارضة البرلمانية [[0 0 0 0 0 0 0 0 0 0 0 0 0 0 0 0 1 0 0 0 0 0 0 0 0 0 0 0 0 0 1 0 0 0 0 0\n",
      "  0 0 0 0 0 0 0 0 0 0 0 0 0 0 0 0 0 0 0 0 0 0 0 0 1 0 0 0 0 0 0 0 0 0 0 0\n",
      "  1 0 0 0 0 0 0 0 0 0 0 0 0]]\n"
     ]
    }
   ],
   "source": [
    "#see the BOW representation\n",
    "print(f\"BoW representation for : {filtered_sen[0]} {BOW[0].toarray()}\")"
   ]
  },
  {
   "cell_type": "markdown",
   "id": "cd906e48-d06d-46f5-98af-030f44bae090",
   "metadata": {},
   "source": [
    "### VI - TF-IDF"
   ]
  },
  {
   "cell_type": "code",
   "execution_count": 12,
   "id": "b29d91c2-12db-40fa-b493-ed746a426e89",
   "metadata": {},
   "outputs": [
    {
     "name": "stdout",
     "output_type": "stream",
     "text": [
      "vocabulary ['أثار' 'أشهر' 'أمو' 'أنه' 'إبعادها' 'إدريس' 'ارتفاع' 'الأشخاص' 'الأمر'\n",
      " 'الإجراء' 'الاجتماعي' 'الاجتماعية' 'الاستفادة' 'الاشتراكات' 'الاشكاليات'\n",
      " 'الانخراط' 'البرلمانية' 'البرنامج' 'الحركي' 'الحصول' 'الدعم' 'السنتيسي'\n",
      " 'الشامل' 'الشروع' 'الظرف' 'العديد' 'الفئات' 'الفريق' 'القادرين' 'المباشر'\n",
      " 'المعارضة' 'المعنية' 'المعنيين' 'المكلف' 'المنتدب' 'المواطنات'\n",
      " 'المواطنين' 'النواب' 'الوجيز' 'الوزير' 'امتعاض' 'انعكاساته' 'بالكشف'\n",
      " 'بالميزانية' 'بسحب' 'بمبرر' 'بمجلس' 'تتغير' 'تضامن' 'تقرر' 'تيسير'\n",
      " 'حقيقة' 'دفع' 'رئيس' 'رغم' 'سؤالا' 'سؤاله' 'سبل' 'سحب' 'شروعهم' 'طالب'\n",
      " 'ظهور' 'عدد' 'فوجئوا' 'فوزي' 'قدرة' 'كتابيا' 'لقجع' 'للأشخاص' 'مؤشرهم'\n",
      " 'مفاده' 'نظام' 'نواب' 'وأسبابه' 'وأكد' 'والاقتصادية' 'والمواطنين'\n",
      " 'ودوافعه' 'وساءل' 'وضعيتهم' 'وعدد' 'وكذا' 'ومعها' 'ووجه' 'يمكن']\n"
     ]
    }
   ],
   "source": [
    "# TF-IDF\n",
    "tfidf = TfidfVectorizer()\n",
    "tfidf_matrix = tfidf.fit_transform(filtered_sen)\n",
    "\n",
    "# All words in the vocabulary.\n",
    "print(\"vocabulary\", tfidf.get_feature_names_out())"
   ]
  },
  {
   "cell_type": "code",
   "execution_count": 13,
   "id": "828eaae5-372a-4ff9-a3e1-f428b07f6baa",
   "metadata": {},
   "outputs": [
    {
     "name": "stdout",
     "output_type": "stream",
     "text": [
      "IDF for all words in the vocabulary :\n",
      " [3.14006616 3.14006616 2.73460106 3.14006616 3.14006616 3.14006616\n",
      " 3.14006616 3.14006616 3.14006616 3.14006616 2.73460106 2.73460106\n",
      " 2.73460106 3.14006616 3.14006616 3.14006616 3.14006616 3.14006616\n",
      " 2.73460106 3.14006616 2.44691898 2.73460106 3.14006616 3.14006616\n",
      " 3.14006616 3.14006616 3.14006616 2.73460106 3.14006616 2.44691898\n",
      " 3.14006616 3.14006616 3.14006616 3.14006616 3.14006616 3.14006616\n",
      " 3.14006616 2.73460106 3.14006616 2.73460106 3.14006616 3.14006616\n",
      " 3.14006616 3.14006616 3.14006616 3.14006616 2.73460106 3.14006616\n",
      " 3.14006616 3.14006616 3.14006616 3.14006616 3.14006616 2.73460106\n",
      " 3.14006616 3.14006616 3.14006616 3.14006616 3.14006616 3.14006616\n",
      " 3.14006616 3.14006616 2.73460106 3.14006616 3.14006616 3.14006616\n",
      " 3.14006616 2.73460106 3.14006616 3.14006616 3.14006616 2.73460106\n",
      " 3.14006616 3.14006616 3.14006616 3.14006616 3.14006616 3.14006616\n",
      " 3.14006616 3.14006616 3.14006616 3.14006616 3.14006616 3.14006616\n",
      " 3.14006616]\n"
     ]
    }
   ],
   "source": [
    "# IDF value for all words in the vocabulary\n",
    "print(\"IDF for all words in the vocabulary :\\n\", tfidf.idf_)\n"
   ]
  },
  {
   "cell_type": "code",
   "execution_count": 14,
   "id": "de60dff8-64b7-4dc8-b784-8cc7a45fc011",
   "metadata": {},
   "outputs": [
    {
     "name": "stdout",
     "output_type": "stream",
     "text": [
      "\n",
      "TFIDF representation for \"طالب نواب المعارضة البرلمانية\" is \n",
      "[[0.  0.  0.  0.  0.  0.  0.  0.  0.  0.  0.  0.  0.  0.  0.  0.  0.5 0.\n",
      "  0.  0.  0.  0.  0.  0.  0.  0.  0.  0.  0.  0.  0.5 0.  0.  0.  0.  0.\n",
      "  0.  0.  0.  0.  0.  0.  0.  0.  0.  0.  0.  0.  0.  0.  0.  0.  0.  0.\n",
      "  0.  0.  0.  0.  0.  0.  0.5 0.  0.  0.  0.  0.  0.  0.  0.  0.  0.  0.\n",
      "  0.5 0.  0.  0.  0.  0.  0.  0.  0.  0.  0.  0.  0. ]]\n"
     ]
    }
   ],
   "source": [
    "# TFIDF representation for all documents in our corpus\n",
    "print('\\nTFIDF representation for \"{}\" is \\n{}'\n",
    "\t.format(filtered_sen[0], tfidf_matrix[0].toarray()))"
   ]
  },
  {
   "cell_type": "markdown",
   "id": "3736d8af-89eb-4e37-aec5-f93fc6259169",
   "metadata": {},
   "source": [
    "### VII - Word2Vec Approach using Skip Gram"
   ]
  },
  {
   "cell_type": "code",
   "execution_count": 15,
   "id": "e55e9228-e82b-4d74-a067-592b868dbba3",
   "metadata": {},
   "outputs": [
    {
     "name": "stdout",
     "output_type": "stream",
     "text": [
      "Token :\n",
      "['طالب', 'نواب', 'المعارضة', 'البرلمانية']\n"
     ]
    }
   ],
   "source": [
    "print(\"Token :\")\n",
    "tokens=tokenize(filtered_sen[0])\n",
    "print(tokens)"
   ]
  },
  {
   "cell_type": "code",
   "execution_count": 16,
   "id": "c2ccaf34-263c-4e02-927c-c282926c18c2",
   "metadata": {},
   "outputs": [
    {
     "name": "stdout",
     "output_type": "stream",
     "text": [
      "word_to_id :\n",
      "{'طالب': 0, 'نواب': 1, 'المعارضة': 2, 'البرلمانية': 3}\n",
      "id_to_word :\n",
      "{0: 'طالب', 1: 'نواب', 2: 'المعارضة', 3: 'البرلمانية'}\n"
     ]
    }
   ],
   "source": [
    "id_to_word = {i:x for (i, x) in enumerate(tokens)}\n",
    "word_to_id = {x:i for (i, x) in enumerate(tokens)}\n",
    "print(\"word_to_id :\")\n",
    "print(word_to_id)\n",
    "print(\"id_to_word :\")\n",
    "print(id_to_word)"
   ]
  },
  {
   "cell_type": "code",
   "execution_count": 17,
   "id": "4a70e52c-ac72-485a-b49d-e9d3f4999b08",
   "metadata": {},
   "outputs": [
    {
     "name": "stdout",
     "output_type": "stream",
     "text": [
      "training data :\n",
      "[0 0 0 1 1 1 2 2 2 3 3 3]\n",
      "[1 2 3 0 2 3 0 1 3 0 1 2]\n"
     ]
    }
   ],
   "source": [
    "def generate_training_data(tokens, word_to_id, window_size):\n",
    " X, Y = [], []\n",
    " for i in range(len(tokens)):\n",
    "  nbr_inds = list(range(max(0, i - window_size), i)) + \\\n",
    "  list(range(i + 1, min(len(tokens), i + window_size + 1)))\n",
    "  for j in nbr_inds:\n",
    "   X.append(word_to_id[tokens[i]])\n",
    "   Y.append(word_to_id[tokens[j]])\n",
    " return np.array(X), np.array(Y)\n",
    "x, y = generate_training_data(tokens, word_to_id, 3)\n",
    "print(\"training data :\")\n",
    "print(x)\n",
    "print(y)"
   ]
  },
  {
   "cell_type": "code",
   "execution_count": 18,
   "id": "b01d428e-1b99-4443-a384-fda6cb18fe14",
   "metadata": {},
   "outputs": [
    {
     "name": "stdout",
     "output_type": "stream",
     "text": [
      "Expand dimensions :\n",
      "[[0 0 0 1 1 1 2 2 2 3 3 3]]\n",
      "[[1 2 3 0 2 3 0 1 3 0 1 2]]\n"
     ]
    }
   ],
   "source": [
    "def expand_dims(x, y):\n",
    " x = np.expand_dims(x, axis=0)\n",
    " y = np.expand_dims(y, axis=0)\n",
    " return x, y\n",
    "x, y = expand_dims(x, y)\n",
    "print(\"Expand dimensions :\")\n",
    "print(x)\n",
    "print(y)"
   ]
  },
  {
   "cell_type": "code",
   "execution_count": 19,
   "id": "75d7d4e2-9a87-4a10-9b27-0209e5570337",
   "metadata": {},
   "outputs": [],
   "source": [
    "# forward propagation\n",
    "def init_parameters(vocab_size, emb_size):\n",
    " wrd_emb = np.random.randn(vocab_size, emb_size) * 0.01\n",
    " w = np.random.randn(vocab_size, emb_size) * 0.01\n",
    " return wrd_emb, w\n",
    "\n",
    "def softmax(z):\n",
    " return np.divide(np.exp(z), np.sum(np.exp(z), axis=0, keepdims=True) + 0.001)\n",
    "\n",
    "def forward(inds, params):\n",
    " wrd_emb, w = params\n",
    " word_vec = wrd_emb[inds.flatten(), :].T\n",
    " z = np.dot(w, word_vec)\n",
    " out = softmax(z)\n",
    " cache = inds, word_vec, w, z\n",
    " return out, cache"
   ]
  },
  {
   "cell_type": "code",
   "execution_count": 20,
   "id": "8a568329-e4cd-49d9-bbaa-2f7ed98deba5",
   "metadata": {},
   "outputs": [],
   "source": [
    "# cost funtion\n",
    "def cross_entropy(y, y_hat):\n",
    " m = y.shape[1]\n",
    " cost = -(1 / m) * np.sum(np.sum(y_hat * np.log(y + 0.001), axis=0, keepdims=True), axis=1)\n",
    " return cost\n",
    "\n",
    "# dervation of softmax\n",
    "def dsoftmax(y, out):\n",
    " dl_dz = out - y\n",
    " return dl_dz"
   ]
  },
  {
   "cell_type": "code",
   "execution_count": 21,
   "id": "93441ad9-8e12-4690-a405-9ed2c86d0a43",
   "metadata": {},
   "outputs": [],
   "source": [
    "def backward(y, out, cache):\n",
    " inds, word_vec, w, z = cache\n",
    " wrd_emb, w = params\n",
    " dl_dz = dsoftmax(y, out)\n",
    " # deviding by the word_vec length to find the average\n",
    " dl_dw = (1/word_vec.shape[1]) * np.dot(dl_dz, word_vec.T)\n",
    " dl_dword_vec = np.dot(w.T, dl_dz)\n",
    " return dl_dz, dl_dw, dl_dword_vec\n",
    "\n",
    "def update(params, cache, grads, lr=0.03):\n",
    " inds, word_vec, w, z = cache\n",
    " wrd_emb, w = params\n",
    " dl_dz, dl_dw, dl_dword_vec = grads\n",
    " wrd_emb[inds.flatten(), :] -= dl_dword_vec.T * lr\n",
    " w -= dl_dw * lr\n",
    " return wrd_emb, w"
   ]
  },
  {
   "cell_type": "code",
   "execution_count": 23,
   "id": "e0b1a76b-bc81-4d8d-8706-4946b53e2904",
   "metadata": {},
   "outputs": [
    {
     "name": "stdout",
     "output_type": "stream",
     "text": [
      "Cost after epoch 0: 1.3826605240224095\n",
      "Cost after epoch 250: 1.3611532612346535\n",
      "Cost after epoch 500: 1.3478085110310252\n",
      "Cost after epoch 750: 1.3394020618738118\n",
      "Cost after epoch 1000: 1.338890561804515\n",
      "Cost after epoch 1250: 1.3428708628638815\n",
      "Cost after epoch 1500: 1.3449947069408523\n",
      "Cost after epoch 1750: 1.3476552228526342\n",
      "Cost after epoch 2000: 1.351840835451621\n",
      "Cost after epoch 2250: 1.3549616332576004\n",
      "Cost after epoch 2500: 1.3557599615988079\n",
      "Cost after epoch 2750: 1.3548463088938782\n",
      "Cost after epoch 3000: 1.3530679988127203\n",
      "Cost after epoch 3250: 1.3511198148576462\n",
      "Cost after epoch 3500: 1.3499146349933886\n",
      "Cost after epoch 3750: 1.3500826127835324\n",
      "Cost after epoch 4000: 1.3510504372679666\n",
      "Cost after epoch 4250: 1.3516601682909646\n",
      "Cost after epoch 4500: 1.351637283030461\n",
      "Cost after epoch 4750: 1.351663366083047\n"
     ]
    }
   ],
   "source": [
    "# training\n",
    "vocab_size = len(id_to_word)\n",
    "m = y.shape[1]\n",
    "y_one_hot = np.zeros((vocab_size, m))\n",
    "y_one_hot[y.flatten(), np.arange(m)] = 1\n",
    "y = y_one_hot\n",
    "batch_size=256\n",
    "embed_size = 50\n",
    "params = init_parameters(vocab_size, 50)\n",
    "costs = []\n",
    "for epoch in range(5000):\n",
    " epoch_cost = 0\n",
    " batch_inds = list(range(0, x.shape[1], batch_size))\n",
    " np.random.shuffle(batch_inds)\n",
    " for i in batch_inds:\n",
    "  x_batch = x[:, i:i+batch_size]\n",
    "  y_batch = y[:, i:i+batch_size]\n",
    "  pred, cache = forward(x_batch, params)\n",
    "  grads = backward(y_batch, pred, cache)\n",
    "  params = update(params, cache, grads, 0.03)\n",
    "  cost = cross_entropy(pred, y_batch)\n",
    "  epoch_cost += np.squeeze(cost)\n",
    " costs.append(epoch_cost)\n",
    " if(epoch % 250 == 0):\n",
    "  print(\"Cost after epoch {}: {}\".format(epoch, epoch_cost))"
   ]
  },
  {
   "cell_type": "code",
   "execution_count": 24,
   "id": "5a12400e-9272-4c49-a2eb-870134910293",
   "metadata": {},
   "outputs": [
    {
     "data": {
      "text/plain": [
       "Text(0, 0.5, 'Losses')"
      ]
     },
     "execution_count": 24,
     "metadata": {},
     "output_type": "execute_result"
    },
    {
     "data": {
      "image/png": "[encoded data removed]",
      "text/plain": [
       "<Figure size 640x480 with 1 Axes>"
      ]
     },
     "metadata": {},
     "output_type": "display_data"
    }
   ],
   "source": [
    "ix = np.arange(0,5000)\n",
    "fig = plt.figure()\n",
    "fig.suptitle('Epoch/Losses', fontsize=20)\n",
    "plt.plot(ix,[costs[i] for i in ix])\n",
    "plt.xlabel('Epochs', fontsize=12)\n",
    "plt.ylabel('Losses', fontsize=12)"
   ]
  },
  {
   "cell_type": "code",
   "execution_count": 25,
   "id": "5701f8ac-7e71-45ae-b5c2-2427e03fb69f",
   "metadata": {},
   "outputs": [
    {
     "name": "stdout",
     "output_type": "stream",
     "text": [
      "طالب's skip-grams: ['البرلمانية', 'نواب', 'طالب', 'المعارضة']\n",
      "نواب's skip-grams: ['البرلمانية', 'طالب', 'نواب', 'المعارضة']\n",
      "المعارضة's skip-grams: ['البرلمانية', 'طالب', 'نواب', 'المعارضة']\n",
      "البرلمانية's skip-grams: ['المعارضة', 'نواب', 'طالب', 'البرلمانية']\n"
     ]
    }
   ],
   "source": [
    "# test\n",
    "x_test = np.arange(vocab_size)\n",
    "x_test = np.expand_dims(x_test, axis=0)\n",
    "softmax_test, _ = forward(x_test, params)\n",
    "top_sorted_inds = np.argsort(softmax_test, axis=0)[-4:,:]\n",
    "\n",
    "for input_ind in range(vocab_size):\n",
    " input_word = id_to_word[input_ind]\n",
    " output_words = [id_to_word[output_ind] for output_ind in top_sorted_inds[::-1,\n",
    " input_ind]]\n",
    " print(\"{}'s skip-grams: {}\".format(input_word, output_words))\n"
   ]
  },
  {
   "cell_type": "markdown",
   "id": "4dcf37da-2067-46d8-b6b5-6e23124b0bc0",
   "metadata": {},
   "source": [
    "### VII - Glove "
   ]
  },
  {
   "cell_type": "code",
   "execution_count": 26,
   "id": "3f8c7fd4-caca-4c86-bf49-5bdea8655db4",
   "metadata": {},
   "outputs": [
    {
     "name": "stdout",
     "output_type": "stream",
     "text": [
      "Number of unique words in dictionary= 4\n",
      "Dictionary is =  {'طالب': 1, 'نواب': 2, 'المعارضة': 3, 'البرلمانية': 4}\n"
     ]
    }
   ],
   "source": [
    "# create the dict.\n",
    "tokenizer = Tokenizer()\n",
    "tokenizer.fit_on_texts(tokens)\n",
    "# number of unique words in dict.\n",
    "print(\"Number of unique words in dictionary=\",\n",
    "len(tokenizer.word_index))\n",
    "print(\"Dictionary is = \", tokenizer.word_index)"
   ]
  },
  {
   "cell_type": "code",
   "execution_count": 29,
   "id": "11a909ae-405c-43b6-9352-f84c580a5823",
   "metadata": {},
   "outputs": [],
   "source": [
    "def embedding_for_vocab(filepath, word_index,\n",
    "embedding_dim):\n",
    "    vocab_size = len(word_index) + 1\n",
    "    # Adding again 1 because of reserved 0 index\n",
    "    embedding_matrix_vocab = np.zeros((vocab_size,embedding_dim))\n",
    "    with open(filepath, encoding=\"utf8\") as f:\n",
    "        for line in f:\n",
    "            word, *vector = line.split()\n",
    "            if word in word_index:\n",
    "                idx = word_index[word]\n",
    "                embedding_matrix_vocab[idx] = np.array(vector, dtype=np.float32)[:embedding_dim]\n",
    "    return embedding_matrix_vocab"
   ]
  },
  {
   "cell_type": "code",
   "execution_count": 31,
   "id": "88606b8e-52f2-4fe0-96c2-2986ef04d541",
   "metadata": {},
   "outputs": [
    {
     "name": "stdout",
     "output_type": "stream",
     "text": [
      "Dense vector for first word is =>  [0. 0. 0. 0. 0. 0. 0. 0. 0. 0. 0. 0. 0. 0. 0. 0. 0. 0. 0. 0. 0. 0. 0. 0.\n",
      " 0. 0. 0. 0. 0. 0. 0. 0. 0. 0. 0. 0. 0. 0. 0. 0. 0. 0. 0. 0. 0. 0. 0. 0.\n",
      " 0. 0.]\n"
     ]
    }
   ],
   "source": [
    "# matrix for vocab: word_index\n",
    "embedding_dim = 50\n",
    "embedding_matrix_vocab = embedding_for_vocab( 'glove.txt', tokenizer.word_index,embedding_dim)\n",
    "print(\"Dense vector for first word is => \",embedding_matrix_vocab[1])"
   ]
  },
  {
   "cell_type": "markdown",
   "id": "6dc9d885-e7c6-44a5-af7e-cbce7d186c34",
   "metadata": {},
   "source": [
    "### VIII - FastText"
   ]
  },
  {
   "cell_type": "code",
   "execution_count": 48,
   "id": "22ca0da9-2805-4057-a664-d9ef5b66b1cd",
   "metadata": {},
   "outputs": [],
   "source": [
    "# Train FastText model on the filtered words\n",
    "model = FastText(sentences=[filtered_words], min_count=1)"
   ]
  },
  {
   "cell_type": "code",
   "execution_count": 36,
   "id": "ba7fe6db-f711-4889-8276-4c7bb8208a01",
   "metadata": {},
   "outputs": [],
   "source": [
    "# Function to get word vector\n",
    "def get_word_vector(word):\n",
    "    # Check if word exists in vocabulary\n",
    "    if word in model.wv.key_to_index:\n",
    "        return model.wv[word]\n",
    "    else:\n",
    "        char_vectors = [model.wv[char] for char in word]\n",
    "        return sum(char_vectors) / len(char_vectors)"
   ]
  },
  {
   "cell_type": "code",
   "execution_count": 50,
   "id": "d8f77f32-2d0a-44fb-a269-d70d54d442a9",
   "metadata": {},
   "outputs": [
    {
     "name": "stdout",
     "output_type": "stream",
     "text": [
      "Word vector for الاقتصاديه : [-6.5351621e-04  1.8229700e-03 -1.0646904e-03 -2.6359770e-04\n",
      "  5.6904735e-04 -2.4271637e-04  2.5121635e-04 -7.2292623e-04\n",
      "  1.2045397e-03  4.7594117e-04 -2.4737706e-03  1.5155604e-03\n",
      " -1.5856129e-03  6.3928706e-04 -2.3683302e-04 -1.0827454e-03\n",
      " -1.4560886e-04  2.4498443e-04  1.5830515e-03  8.3135848e-04\n",
      "  2.0894940e-05 -3.9701862e-04  1.9382261e-04  4.4357218e-04\n",
      " -6.7095197e-04 -7.5373129e-04 -1.4037814e-03  1.1133315e-03\n",
      " -1.0319415e-03  1.2119008e-03 -2.9401027e-04  5.1886524e-04\n",
      "  7.3067880e-05 -2.2689765e-03 -2.2619083e-03  1.0394169e-03\n",
      " -7.5846416e-04  3.6818851e-04  2.1003552e-03 -2.4866100e-04\n",
      "  6.7537396e-05 -1.1395260e-04  9.9369709e-04  3.8186851e-04\n",
      " -9.0902543e-04  4.2532268e-04  1.1351197e-03 -1.8195057e-03\n",
      " -8.7684940e-04 -9.6625218e-04  1.8822394e-03 -7.5736846e-04\n",
      " -2.7264361e-04 -2.2117318e-04 -4.6593217e-05 -1.7930336e-04\n",
      " -1.4429260e-03 -1.0863669e-03  9.5430610e-04  8.7219890e-04\n",
      " -2.0246897e-03  1.0871929e-03  4.0253456e-04 -3.0654547e-04\n",
      " -5.4484128e-04  9.0089998e-05 -1.3743301e-03  2.5727734e-04\n",
      "  8.7973737e-04  3.9736123e-04 -1.4320012e-03 -1.3779756e-03\n",
      "  4.9824844e-04 -1.3573150e-03 -2.0471503e-04  1.1928562e-03\n",
      " -5.3113827e-04  2.7123664e-04 -2.8026741e-04  2.2611641e-03\n",
      "  5.1992957e-04 -6.2356208e-04 -1.0559043e-03  8.1239099e-04\n",
      " -8.3956495e-04  2.2330973e-05 -1.2389219e-03  7.0367416e-04\n",
      "  3.9535851e-04  3.8724378e-04  5.4996478e-04 -9.1276871e-04\n",
      "  1.7596867e-04 -3.5833041e-04 -5.4006174e-04  1.8757335e-03\n",
      " -2.4128843e-03  1.3943930e-04  5.4837577e-04  1.3858160e-04]\n",
      "Similar words to الاقتصاديه : [('البرلمانيه', 0.2838728427886963), ('رغم', 0.2803575098514557)]\n"
     ]
    }
   ],
   "source": [
    "#Example usage\n",
    "word = \"الاقتصاديه\" \n",
    "word_vector = get_word_vector(word)\n",
    "print(\"Word vector for\", word, \":\", word_vector)\n",
    "\n",
    "# Find similar words\n",
    "similar_words = model.wv.most_similar(positive=[word], topn=2)\n",
    "print(\"Similar words to\", word, \":\", similar_words)"
   ]
  },
  {
   "cell_type": "markdown",
   "id": "2fc94df7-3edd-4c64-aa49-f47cb4ef9944",
   "metadata": {},
   "source": [
    "### IV - Visualization"
   ]
  },
  {
   "cell_type": "code",
   "execution_count": 46,
   "id": "0226acff-7534-4a23-a81d-016f777f0e5c",
   "metadata": {},
   "outputs": [],
   "source": [
    "# One-Hot Encoding\n",
    "one_hot_encoded = OneHotEncoder(filtered_sen[0])\n",
    "one_hot_matrix = np.array(one_hot_encoded)\n",
    "\n",
    "# BoW (Bag-of-Words)\n",
    "bow_matrix = BOW.toarray()\n",
    "\n",
    "# TF-IDF\n",
    "tfidf_matrix = tfidf_matrix.toarray()\n",
    "\n",
    "# FastText\n",
    "fasttext_matrix = np.array([model.wv[token] for token in custom_tokens])\n"
   ]
  },
  {
   "cell_type": "code",
   "execution_count": 47,
   "id": "ea59f235-fc93-4644-9a77-216493ab0602",
   "metadata": {},
   "outputs": [
    {
     "data": {
      "image/png": "[encoded data removed]",
      "text/plain": [
       "<Figure size 1200x600 with 4 Axes>"
      ]
     },
     "metadata": {},
     "output_type": "display_data"
    }
   ],
   "source": [
    "#Apply t-SNE to each vectorization method\n",
    "plt.figure(figsize=(12, 6))\n",
    "\n",
    "plt.subplot(2, 2, 1)\n",
    "tsne = TSNE(n_components=2, random_state=42,perplexity = 1)\n",
    "one_hot_tsne = tsne.fit_transform(one_hot_matrix)\n",
    "plt.scatter(one_hot_tsne[:, 0], one_hot_tsne[:, 1])\n",
    "plt.title(\"One-Hot Encoding\")\n",
    "\n",
    "plt.subplot(2, 2, 2)\n",
    "bow_tsne = tsne.fit_transform(bow_matrix)\n",
    "plt.scatter(bow_tsne[:, 0], bow_tsne[:, 1])\n",
    "plt.title(\"BoW\")\n",
    "\n",
    "plt.subplot(2, 2, 3)\n",
    "tfidf_tsne = tsne.fit_transform(tfidf_matrix)\n",
    "plt.scatter(tfidf_tsne[:, 0], tfidf_tsne[:, 1])\n",
    "plt.title(\"TF-IDF\")\n",
    "\n",
    "plt.subplot(2, 2, 4)\n",
    "fasttext_tsne = tsne.fit_transform(fasttext_matrix)\n",
    "plt.scatter(fasttext_tsne[:, 0], fasttext_tsne[:, 1])\n",
    "plt.title(\"FastText\")\n",
    "\n",
    "plt.tight_layout()\n",
    "plt.show()"
   ]
  },
  {
   "cell_type": "markdown",
   "source": [
    "### Conclusion :"
   ],
   "metadata": {
    "collapsed": false
   },
   "id": "41e6f210c3fa10aa"
  },
  {
   "cell_type": "markdown",
   "source": [
    "In summary, my reflections from this lab underscore the intricacies inherent in Arabic, surpassing those of its Latin counterparts. The exercise has equipped me with strategies for discerning patterns among words and discerning similarities between them. Moreover, the exploration revealed a significant research gap in Arabic NLP, resulting in a paucity of available libraries tailored to Arabic text processing, thereby posing challenges to practitioners seeking comprehensive tools in this domain."
   ],
   "metadata": {
    "collapsed": false
   },
   "id": "635bfbe2f8ce75fd"
  },
  {
   "cell_type": "markdown",
   "id": "527046f6-725c-45d4-8f87-6f2f48f97f07",
   "metadata": {},
   "source": [
    "### References :"
   ]
  },
  {
   "cell_type": "markdown",
   "id": "f1540378-49f5-4c94-a804-8e7e93b4593c",
   "metadata": {},
   "source": [
    "##### [1] Jeet. (2021, December 15). One Hot encoding of text data in Natural Language Processing. Medium. https://medium.com/analytics-vidhya/one-hot-encoding-of-text-data-in-natural-language-processing-2242fefb2148\n",
    "##### [2] | notebook.community. (n.d.). https://notebook.community/arcyfelix/Courses/18-03-07-Deep%20Learning%20With%20Python%20by%20Fran%C3%A7ois%20Chollet/.ipynb_checkpoints/Chapter%206.1.1%20-%20One-hot%20encoding%20of%20words%20and%20characters-checkpoint\n",
    "##### [3] Munther, I. (2021, December 30). Sentiment Analysis of Arabic Text Data (Tweets) - Analytics Vidhya - Medium. Medium. https://medium.com/analytics-vidhya/sentiment-analysis-of-arabic-text-data-tweets-4e96c8da892b\n",
    "##### [4] freeCodeCamp.org. (2019, July 24). How to process textual data using TF-IDF in Python. https://www.freecodecamp.org/news/how-to-process-textual-data-using-tf-idf-in-python-cd2bbc0a94a3/\n",
    "##### [5] GeeksforGeeks. (2024, January 3). Word Embedding using Word2Vec. GeeksforGeeks. https://www.geeksforgeeks.org/python-word-embedding-using-word2vec/\n"
   ]
  },
  {
   "cell_type": "code",
   "execution_count": null,
   "outputs": [],
   "source": [],
   "metadata": {
    "collapsed": false
   },
   "id": "4a93b189f108f2c9"
  }
 ],
 "metadata": {
  "kernelspec": {
   "display_name": "Python 3 (ipykernel)",
   "language": "python",
   "name": "python3"
  },
  "language_info": {
   "codemirror_mode": {
    "name": "ipython",
    "version": 3
   },
   "file_extension": ".py",
   "mimetype": "text/x-python",
   "name": "python",
   "nbconvert_exporter": "python",
   "pygments_lexer": "ipython3",
   "version": "3.12.0"
  }
 },
 "nbformat": 4,
 "nbformat_minor": 5
}
